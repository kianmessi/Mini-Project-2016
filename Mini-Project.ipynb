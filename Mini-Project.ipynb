{
  "nbformat": 4,
  "nbformat_minor": 0,
  "metadata": {
    "colab": {
      "provenance": []
    },
    "kernelspec": {
      "name": "python3",
      "display_name": "Python 3"
    },
    "language_info": {
      "name": "python"
    }
  },
  "cells": [
    {
      "cell_type": "markdown",
      "source": [
        "# Read in Data"
      ],
      "metadata": {
        "id": "Z5MXwhAkBOd1"
      }
    },
    {
      "cell_type": "code",
      "source": [
        "# Import libraries\n",
        "\n",
        "%matplotlib inline\n",
        "\n",
        "import pandas as pd\n",
        "import matplotlib.pyplot as plt\n",
        "import seaborn as sns"
      ],
      "metadata": {
        "id": "JS3Fh_loBaob"
      },
      "execution_count": null,
      "outputs": []
    },
    {
      "cell_type": "code",
      "source": [
        "dataset_url = \"https://raw.githubusercontent.com/kianmessi/Mini-Project-2016/main/2016.csv\"\n",
        "df = pd.read_csv(dataset_url)"
      ],
      "metadata": {
        "id": "nVj1xuIhBb_-"
      },
      "execution_count": null,
      "outputs": []
    },
    {
      "cell_type": "markdown",
      "source": [
        "# High Level View"
      ],
      "metadata": {
        "id": "HEKz6NyMCpUq"
      }
    },
    {
      "cell_type": "code",
      "source": [
        "df.head(10)"
      ],
      "metadata": {
        "colab": {
          "base_uri": "https://localhost:8080/",
          "height": 415
        },
        "id": "cRd6vJ3WCvmf",
        "outputId": "78935385-f68f-4fec-a7fa-e014332884af"
      },
      "execution_count": null,
      "outputs": [
        {
          "output_type": "execute_result",
          "data": {
            "text/plain": [
              "       Country                     Region  Happiness Rank  Happiness Score  \\\n",
              "0      Denmark             Western Europe               1            7.526   \n",
              "1  Switzerland             Western Europe               2            7.509   \n",
              "2      Iceland             Western Europe               3            7.501   \n",
              "3       Norway             Western Europe               4            7.498   \n",
              "4      Finland             Western Europe               5            7.413   \n",
              "5       Canada              North America               6            7.404   \n",
              "6  Netherlands             Western Europe               7            7.339   \n",
              "7  New Zealand  Australia and New Zealand               8            7.334   \n",
              "8    Australia  Australia and New Zealand               9            7.313   \n",
              "9       Sweden             Western Europe              10            7.291   \n",
              "\n",
              "   Lower Confidence Interval  Upper Confidence Interval  \\\n",
              "0                      7.460                      7.592   \n",
              "1                      7.428                      7.590   \n",
              "2                      7.333                      7.669   \n",
              "3                      7.421                      7.575   \n",
              "4                      7.351                      7.475   \n",
              "5                      7.335                      7.473   \n",
              "6                      7.284                      7.394   \n",
              "7                      7.264                      7.404   \n",
              "8                      7.241                      7.385   \n",
              "9                      7.227                      7.355   \n",
              "\n",
              "   Economy (GDP per Capita)   Family  Health (Life Expectancy)  Freedom  \\\n",
              "0                   1.44178  1.16374                   0.79504  0.57941   \n",
              "1                   1.52733  1.14524                   0.86303  0.58557   \n",
              "2                   1.42666  1.18326                   0.86733  0.56624   \n",
              "3                   1.57744  1.12690                   0.79579  0.59609   \n",
              "4                   1.40598  1.13464                   0.81091  0.57104   \n",
              "5                   1.44015  1.09610                   0.82760  0.57370   \n",
              "6                   1.46468  1.02912                   0.81231  0.55211   \n",
              "7                   1.36066  1.17278                   0.83096  0.58147   \n",
              "8                   1.44443  1.10476                   0.85120  0.56837   \n",
              "9                   1.45181  1.08764                   0.83121  0.58218   \n",
              "\n",
              "   Trust (Government Corruption)  Generosity  Dystopia Residual  \n",
              "0                        0.44453     0.36171            2.73939  \n",
              "1                        0.41203     0.28083            2.69463  \n",
              "2                        0.14975     0.47678            2.83137  \n",
              "3                        0.35776     0.37895            2.66465  \n",
              "4                        0.41004     0.25492            2.82596  \n",
              "5                        0.31329     0.44834            2.70485  \n",
              "6                        0.29927     0.47416            2.70749  \n",
              "7                        0.41904     0.49401            2.47553  \n",
              "8                        0.32331     0.47407            2.54650  \n",
              "9                        0.40867     0.38254            2.54734  "
            ],
            "text/html": [
              "\n",
              "  <div id=\"df-ab386211-bc28-4467-9ae3-088cc4265459\" class=\"colab-df-container\">\n",
              "    <div>\n",
              "<style scoped>\n",
              "    .dataframe tbody tr th:only-of-type {\n",
              "        vertical-align: middle;\n",
              "    }\n",
              "\n",
              "    .dataframe tbody tr th {\n",
              "        vertical-align: top;\n",
              "    }\n",
              "\n",
              "    .dataframe thead th {\n",
              "        text-align: right;\n",
              "    }\n",
              "</style>\n",
              "<table border=\"1\" class=\"dataframe\">\n",
              "  <thead>\n",
              "    <tr style=\"text-align: right;\">\n",
              "      <th></th>\n",
              "      <th>Country</th>\n",
              "      <th>Region</th>\n",
              "      <th>Happiness Rank</th>\n",
              "      <th>Happiness Score</th>\n",
              "      <th>Lower Confidence Interval</th>\n",
              "      <th>Upper Confidence Interval</th>\n",
              "      <th>Economy (GDP per Capita)</th>\n",
              "      <th>Family</th>\n",
              "      <th>Health (Life Expectancy)</th>\n",
              "      <th>Freedom</th>\n",
              "      <th>Trust (Government Corruption)</th>\n",
              "      <th>Generosity</th>\n",
              "      <th>Dystopia Residual</th>\n",
              "    </tr>\n",
              "  </thead>\n",
              "  <tbody>\n",
              "    <tr>\n",
              "      <th>0</th>\n",
              "      <td>Denmark</td>\n",
              "      <td>Western Europe</td>\n",
              "      <td>1</td>\n",
              "      <td>7.526</td>\n",
              "      <td>7.460</td>\n",
              "      <td>7.592</td>\n",
              "      <td>1.44178</td>\n",
              "      <td>1.16374</td>\n",
              "      <td>0.79504</td>\n",
              "      <td>0.57941</td>\n",
              "      <td>0.44453</td>\n",
              "      <td>0.36171</td>\n",
              "      <td>2.73939</td>\n",
              "    </tr>\n",
              "    <tr>\n",
              "      <th>1</th>\n",
              "      <td>Switzerland</td>\n",
              "      <td>Western Europe</td>\n",
              "      <td>2</td>\n",
              "      <td>7.509</td>\n",
              "      <td>7.428</td>\n",
              "      <td>7.590</td>\n",
              "      <td>1.52733</td>\n",
              "      <td>1.14524</td>\n",
              "      <td>0.86303</td>\n",
              "      <td>0.58557</td>\n",
              "      <td>0.41203</td>\n",
              "      <td>0.28083</td>\n",
              "      <td>2.69463</td>\n",
              "    </tr>\n",
              "    <tr>\n",
              "      <th>2</th>\n",
              "      <td>Iceland</td>\n",
              "      <td>Western Europe</td>\n",
              "      <td>3</td>\n",
              "      <td>7.501</td>\n",
              "      <td>7.333</td>\n",
              "      <td>7.669</td>\n",
              "      <td>1.42666</td>\n",
              "      <td>1.18326</td>\n",
              "      <td>0.86733</td>\n",
              "      <td>0.56624</td>\n",
              "      <td>0.14975</td>\n",
              "      <td>0.47678</td>\n",
              "      <td>2.83137</td>\n",
              "    </tr>\n",
              "    <tr>\n",
              "      <th>3</th>\n",
              "      <td>Norway</td>\n",
              "      <td>Western Europe</td>\n",
              "      <td>4</td>\n",
              "      <td>7.498</td>\n",
              "      <td>7.421</td>\n",
              "      <td>7.575</td>\n",
              "      <td>1.57744</td>\n",
              "      <td>1.12690</td>\n",
              "      <td>0.79579</td>\n",
              "      <td>0.59609</td>\n",
              "      <td>0.35776</td>\n",
              "      <td>0.37895</td>\n",
              "      <td>2.66465</td>\n",
              "    </tr>\n",
              "    <tr>\n",
              "      <th>4</th>\n",
              "      <td>Finland</td>\n",
              "      <td>Western Europe</td>\n",
              "      <td>5</td>\n",
              "      <td>7.413</td>\n",
              "      <td>7.351</td>\n",
              "      <td>7.475</td>\n",
              "      <td>1.40598</td>\n",
              "      <td>1.13464</td>\n",
              "      <td>0.81091</td>\n",
              "      <td>0.57104</td>\n",
              "      <td>0.41004</td>\n",
              "      <td>0.25492</td>\n",
              "      <td>2.82596</td>\n",
              "    </tr>\n",
              "    <tr>\n",
              "      <th>5</th>\n",
              "      <td>Canada</td>\n",
              "      <td>North America</td>\n",
              "      <td>6</td>\n",
              "      <td>7.404</td>\n",
              "      <td>7.335</td>\n",
              "      <td>7.473</td>\n",
              "      <td>1.44015</td>\n",
              "      <td>1.09610</td>\n",
              "      <td>0.82760</td>\n",
              "      <td>0.57370</td>\n",
              "      <td>0.31329</td>\n",
              "      <td>0.44834</td>\n",
              "      <td>2.70485</td>\n",
              "    </tr>\n",
              "    <tr>\n",
              "      <th>6</th>\n",
              "      <td>Netherlands</td>\n",
              "      <td>Western Europe</td>\n",
              "      <td>7</td>\n",
              "      <td>7.339</td>\n",
              "      <td>7.284</td>\n",
              "      <td>7.394</td>\n",
              "      <td>1.46468</td>\n",
              "      <td>1.02912</td>\n",
              "      <td>0.81231</td>\n",
              "      <td>0.55211</td>\n",
              "      <td>0.29927</td>\n",
              "      <td>0.47416</td>\n",
              "      <td>2.70749</td>\n",
              "    </tr>\n",
              "    <tr>\n",
              "      <th>7</th>\n",
              "      <td>New Zealand</td>\n",
              "      <td>Australia and New Zealand</td>\n",
              "      <td>8</td>\n",
              "      <td>7.334</td>\n",
              "      <td>7.264</td>\n",
              "      <td>7.404</td>\n",
              "      <td>1.36066</td>\n",
              "      <td>1.17278</td>\n",
              "      <td>0.83096</td>\n",
              "      <td>0.58147</td>\n",
              "      <td>0.41904</td>\n",
              "      <td>0.49401</td>\n",
              "      <td>2.47553</td>\n",
              "    </tr>\n",
              "    <tr>\n",
              "      <th>8</th>\n",
              "      <td>Australia</td>\n",
              "      <td>Australia and New Zealand</td>\n",
              "      <td>9</td>\n",
              "      <td>7.313</td>\n",
              "      <td>7.241</td>\n",
              "      <td>7.385</td>\n",
              "      <td>1.44443</td>\n",
              "      <td>1.10476</td>\n",
              "      <td>0.85120</td>\n",
              "      <td>0.56837</td>\n",
              "      <td>0.32331</td>\n",
              "      <td>0.47407</td>\n",
              "      <td>2.54650</td>\n",
              "    </tr>\n",
              "    <tr>\n",
              "      <th>9</th>\n",
              "      <td>Sweden</td>\n",
              "      <td>Western Europe</td>\n",
              "      <td>10</td>\n",
              "      <td>7.291</td>\n",
              "      <td>7.227</td>\n",
              "      <td>7.355</td>\n",
              "      <td>1.45181</td>\n",
              "      <td>1.08764</td>\n",
              "      <td>0.83121</td>\n",
              "      <td>0.58218</td>\n",
              "      <td>0.40867</td>\n",
              "      <td>0.38254</td>\n",
              "      <td>2.54734</td>\n",
              "    </tr>\n",
              "  </tbody>\n",
              "</table>\n",
              "</div>\n",
              "    <div class=\"colab-df-buttons\">\n",
              "\n",
              "  <div class=\"colab-df-container\">\n",
              "    <button class=\"colab-df-convert\" onclick=\"convertToInteractive('df-ab386211-bc28-4467-9ae3-088cc4265459')\"\n",
              "            title=\"Convert this dataframe to an interactive table.\"\n",
              "            style=\"display:none;\">\n",
              "\n",
              "  <svg xmlns=\"http://www.w3.org/2000/svg\" height=\"24px\" viewBox=\"0 -960 960 960\">\n",
              "    <path d=\"M120-120v-720h720v720H120Zm60-500h600v-160H180v160Zm220 220h160v-160H400v160Zm0 220h160v-160H400v160ZM180-400h160v-160H180v160Zm440 0h160v-160H620v160ZM180-180h160v-160H180v160Zm440 0h160v-160H620v160Z\"/>\n",
              "  </svg>\n",
              "    </button>\n",
              "\n",
              "  <style>\n",
              "    .colab-df-container {\n",
              "      display:flex;\n",
              "      gap: 12px;\n",
              "    }\n",
              "\n",
              "    .colab-df-convert {\n",
              "      background-color: #E8F0FE;\n",
              "      border: none;\n",
              "      border-radius: 50%;\n",
              "      cursor: pointer;\n",
              "      display: none;\n",
              "      fill: #1967D2;\n",
              "      height: 32px;\n",
              "      padding: 0 0 0 0;\n",
              "      width: 32px;\n",
              "    }\n",
              "\n",
              "    .colab-df-convert:hover {\n",
              "      background-color: #E2EBFA;\n",
              "      box-shadow: 0px 1px 2px rgba(60, 64, 67, 0.3), 0px 1px 3px 1px rgba(60, 64, 67, 0.15);\n",
              "      fill: #174EA6;\n",
              "    }\n",
              "\n",
              "    .colab-df-buttons div {\n",
              "      margin-bottom: 4px;\n",
              "    }\n",
              "\n",
              "    [theme=dark] .colab-df-convert {\n",
              "      background-color: #3B4455;\n",
              "      fill: #D2E3FC;\n",
              "    }\n",
              "\n",
              "    [theme=dark] .colab-df-convert:hover {\n",
              "      background-color: #434B5C;\n",
              "      box-shadow: 0px 1px 3px 1px rgba(0, 0, 0, 0.15);\n",
              "      filter: drop-shadow(0px 1px 2px rgba(0, 0, 0, 0.3));\n",
              "      fill: #FFFFFF;\n",
              "    }\n",
              "  </style>\n",
              "\n",
              "    <script>\n",
              "      const buttonEl =\n",
              "        document.querySelector('#df-ab386211-bc28-4467-9ae3-088cc4265459 button.colab-df-convert');\n",
              "      buttonEl.style.display =\n",
              "        google.colab.kernel.accessAllowed ? 'block' : 'none';\n",
              "\n",
              "      async function convertToInteractive(key) {\n",
              "        const element = document.querySelector('#df-ab386211-bc28-4467-9ae3-088cc4265459');\n",
              "        const dataTable =\n",
              "          await google.colab.kernel.invokeFunction('convertToInteractive',\n",
              "                                                    [key], {});\n",
              "        if (!dataTable) return;\n",
              "\n",
              "        const docLinkHtml = 'Like what you see? Visit the ' +\n",
              "          '<a target=\"_blank\" href=https://colab.research.google.com/notebooks/data_table.ipynb>data table notebook</a>'\n",
              "          + ' to learn more about interactive tables.';\n",
              "        element.innerHTML = '';\n",
              "        dataTable['output_type'] = 'display_data';\n",
              "        await google.colab.output.renderOutput(dataTable, element);\n",
              "        const docLink = document.createElement('div');\n",
              "        docLink.innerHTML = docLinkHtml;\n",
              "        element.appendChild(docLink);\n",
              "      }\n",
              "    </script>\n",
              "  </div>\n",
              "\n",
              "\n",
              "<div id=\"df-7d6f4f87-96ca-446d-9490-7a7d9f18c209\">\n",
              "  <button class=\"colab-df-quickchart\" onclick=\"quickchart('df-7d6f4f87-96ca-446d-9490-7a7d9f18c209')\"\n",
              "            title=\"Suggest charts\"\n",
              "            style=\"display:none;\">\n",
              "\n",
              "<svg xmlns=\"http://www.w3.org/2000/svg\" height=\"24px\"viewBox=\"0 0 24 24\"\n",
              "     width=\"24px\">\n",
              "    <g>\n",
              "        <path d=\"M19 3H5c-1.1 0-2 .9-2 2v14c0 1.1.9 2 2 2h14c1.1 0 2-.9 2-2V5c0-1.1-.9-2-2-2zM9 17H7v-7h2v7zm4 0h-2V7h2v10zm4 0h-2v-4h2v4z\"/>\n",
              "    </g>\n",
              "</svg>\n",
              "  </button>\n",
              "\n",
              "<style>\n",
              "  .colab-df-quickchart {\n",
              "      --bg-color: #E8F0FE;\n",
              "      --fill-color: #1967D2;\n",
              "      --hover-bg-color: #E2EBFA;\n",
              "      --hover-fill-color: #174EA6;\n",
              "      --disabled-fill-color: #AAA;\n",
              "      --disabled-bg-color: #DDD;\n",
              "  }\n",
              "\n",
              "  [theme=dark] .colab-df-quickchart {\n",
              "      --bg-color: #3B4455;\n",
              "      --fill-color: #D2E3FC;\n",
              "      --hover-bg-color: #434B5C;\n",
              "      --hover-fill-color: #FFFFFF;\n",
              "      --disabled-bg-color: #3B4455;\n",
              "      --disabled-fill-color: #666;\n",
              "  }\n",
              "\n",
              "  .colab-df-quickchart {\n",
              "    background-color: var(--bg-color);\n",
              "    border: none;\n",
              "    border-radius: 50%;\n",
              "    cursor: pointer;\n",
              "    display: none;\n",
              "    fill: var(--fill-color);\n",
              "    height: 32px;\n",
              "    padding: 0;\n",
              "    width: 32px;\n",
              "  }\n",
              "\n",
              "  .colab-df-quickchart:hover {\n",
              "    background-color: var(--hover-bg-color);\n",
              "    box-shadow: 0 1px 2px rgba(60, 64, 67, 0.3), 0 1px 3px 1px rgba(60, 64, 67, 0.15);\n",
              "    fill: var(--button-hover-fill-color);\n",
              "  }\n",
              "\n",
              "  .colab-df-quickchart-complete:disabled,\n",
              "  .colab-df-quickchart-complete:disabled:hover {\n",
              "    background-color: var(--disabled-bg-color);\n",
              "    fill: var(--disabled-fill-color);\n",
              "    box-shadow: none;\n",
              "  }\n",
              "\n",
              "  .colab-df-spinner {\n",
              "    border: 2px solid var(--fill-color);\n",
              "    border-color: transparent;\n",
              "    border-bottom-color: var(--fill-color);\n",
              "    animation:\n",
              "      spin 1s steps(1) infinite;\n",
              "  }\n",
              "\n",
              "  @keyframes spin {\n",
              "    0% {\n",
              "      border-color: transparent;\n",
              "      border-bottom-color: var(--fill-color);\n",
              "      border-left-color: var(--fill-color);\n",
              "    }\n",
              "    20% {\n",
              "      border-color: transparent;\n",
              "      border-left-color: var(--fill-color);\n",
              "      border-top-color: var(--fill-color);\n",
              "    }\n",
              "    30% {\n",
              "      border-color: transparent;\n",
              "      border-left-color: var(--fill-color);\n",
              "      border-top-color: var(--fill-color);\n",
              "      border-right-color: var(--fill-color);\n",
              "    }\n",
              "    40% {\n",
              "      border-color: transparent;\n",
              "      border-right-color: var(--fill-color);\n",
              "      border-top-color: var(--fill-color);\n",
              "    }\n",
              "    60% {\n",
              "      border-color: transparent;\n",
              "      border-right-color: var(--fill-color);\n",
              "    }\n",
              "    80% {\n",
              "      border-color: transparent;\n",
              "      border-right-color: var(--fill-color);\n",
              "      border-bottom-color: var(--fill-color);\n",
              "    }\n",
              "    90% {\n",
              "      border-color: transparent;\n",
              "      border-bottom-color: var(--fill-color);\n",
              "    }\n",
              "  }\n",
              "</style>\n",
              "\n",
              "  <script>\n",
              "    async function quickchart(key) {\n",
              "      const quickchartButtonEl =\n",
              "        document.querySelector('#' + key + ' button');\n",
              "      quickchartButtonEl.disabled = true;  // To prevent multiple clicks.\n",
              "      quickchartButtonEl.classList.add('colab-df-spinner');\n",
              "      try {\n",
              "        const charts = await google.colab.kernel.invokeFunction(\n",
              "            'suggestCharts', [key], {});\n",
              "      } catch (error) {\n",
              "        console.error('Error during call to suggestCharts:', error);\n",
              "      }\n",
              "      quickchartButtonEl.classList.remove('colab-df-spinner');\n",
              "      quickchartButtonEl.classList.add('colab-df-quickchart-complete');\n",
              "    }\n",
              "    (() => {\n",
              "      let quickchartButtonEl =\n",
              "        document.querySelector('#df-7d6f4f87-96ca-446d-9490-7a7d9f18c209 button');\n",
              "      quickchartButtonEl.style.display =\n",
              "        google.colab.kernel.accessAllowed ? 'block' : 'none';\n",
              "    })();\n",
              "  </script>\n",
              "</div>\n",
              "    </div>\n",
              "  </div>\n"
            ]
          },
          "metadata": {},
          "execution_count": 3
        }
      ]
    },
    {
      "cell_type": "code",
      "source": [
        "df.shape"
      ],
      "metadata": {
        "colab": {
          "base_uri": "https://localhost:8080/"
        },
        "id": "l942UFEcFmP5",
        "outputId": "6e255ef8-d24b-4c1e-e2f4-c2b882a72b98"
      },
      "execution_count": null,
      "outputs": [
        {
          "output_type": "execute_result",
          "data": {
            "text/plain": [
              "(157, 13)"
            ]
          },
          "metadata": {},
          "execution_count": 4
        }
      ]
    },
    {
      "cell_type": "markdown",
      "source": [
        "This dataset consists of a collection of 12 social and economic indicators that affect happiness across 157 different countries. These indicators include metrics for GDP per Capita, Family, Life Expectancy, Freedom, Government Trust, Generosity, and a Dystopia Residual. The Dystopia Residual is used to represent the unexplained components or variations in happiness that are not accounted for by the six other key variables mentioned. None of the columns have units, but they're each scored on different scales. Therefore, this dataset will be very useful for identifying correlations between different factors that impact the general happiness and well-being of a country's population.\n"
      ],
      "metadata": {
        "id": "xs1hlp5QFw9k"
      }
    },
    {
      "cell_type": "markdown",
      "source": [
        "# Preliminary Exploration"
      ],
      "metadata": {
        "id": "qc1CT4XBF73G"
      }
    },
    {
      "cell_type": "markdown",
      "source": [
        "## 1. Data Summarization"
      ],
      "metadata": {
        "id": "onESm_CHGDmg"
      }
    },
    {
      "cell_type": "markdown",
      "source": [
        "In this section, we want to better understand how the data is distributed and what variables to focus on for our analysis.\n",
        "\n",
        "1.   Describe: To see dataframe level statistics of every numerical field. We see that the counts are the same for all fields at 157, while the minimum and maximum Happiness Scores are 2.91 and 7.53, respectively. The mean of the Happiness Scores is 5.38.\n",
        "2.   Histogram: To see the distribution of happiness scores. The distribution appears to be fairly symmetric and unimodal, therefore roughly representing a normal distribution.\n",
        "3.   Info: To see what type of data is in each field. We see that it is a mix of 11 numerical and 2 object fields.\n",
        "\n"
      ],
      "metadata": {
        "id": "XemCyoncBFbJ"
      }
    },
    {
      "cell_type": "code",
      "source": [
        "df.describe()"
      ],
      "metadata": {
        "colab": {
          "base_uri": "https://localhost:8080/",
          "height": 317
        },
        "id": "jHITMGyXmq9D",
        "outputId": "31da4179-e31d-4b73-b2b1-4c8d32790a54"
      },
      "execution_count": null,
      "outputs": [
        {
          "output_type": "execute_result",
          "data": {
            "text/plain": [
              "       Happiness Rank  Happiness Score  Lower Confidence Interval  \\\n",
              "count      157.000000       157.000000                 157.000000   \n",
              "mean        78.980892         5.382185                   5.282395   \n",
              "std         45.466030         1.141674                   1.148043   \n",
              "min          1.000000         2.905000                   2.732000   \n",
              "25%         40.000000         4.404000                   4.327000   \n",
              "50%         79.000000         5.314000                   5.237000   \n",
              "75%        118.000000         6.269000                   6.154000   \n",
              "max        157.000000         7.526000                   7.460000   \n",
              "\n",
              "       Upper Confidence Interval  Economy (GDP per Capita)      Family  \\\n",
              "count                 157.000000                157.000000  157.000000   \n",
              "mean                    5.481975                  0.953880    0.793621   \n",
              "std                     1.136493                  0.412595    0.266706   \n",
              "min                     3.078000                  0.000000    0.000000   \n",
              "25%                     4.465000                  0.670240    0.641840   \n",
              "50%                     5.419000                  1.027800    0.841420   \n",
              "75%                     6.434000                  1.279640    1.021520   \n",
              "max                     7.669000                  1.824270    1.183260   \n",
              "\n",
              "       Health (Life Expectancy)     Freedom  Trust (Government Corruption)  \\\n",
              "count                157.000000  157.000000                     157.000000   \n",
              "mean                   0.557619    0.370994                       0.137624   \n",
              "std                    0.229349    0.145507                       0.111038   \n",
              "min                    0.000000    0.000000                       0.000000   \n",
              "25%                    0.382910    0.257480                       0.061260   \n",
              "50%                    0.596590    0.397470                       0.105470   \n",
              "75%                    0.729930    0.484530                       0.175540   \n",
              "max                    0.952770    0.608480                       0.505210   \n",
              "\n",
              "       Generosity  Dystopia Residual  \n",
              "count  157.000000         157.000000  \n",
              "mean     0.242635           2.325807  \n",
              "std      0.133756           0.542220  \n",
              "min      0.000000           0.817890  \n",
              "25%      0.154570           2.031710  \n",
              "50%      0.222450           2.290740  \n",
              "75%      0.311850           2.664650  \n",
              "max      0.819710           3.837720  "
            ],
            "text/html": [
              "\n",
              "  <div id=\"df-dd380d46-bc8f-4ab1-af38-72249fa6bca2\" class=\"colab-df-container\">\n",
              "    <div>\n",
              "<style scoped>\n",
              "    .dataframe tbody tr th:only-of-type {\n",
              "        vertical-align: middle;\n",
              "    }\n",
              "\n",
              "    .dataframe tbody tr th {\n",
              "        vertical-align: top;\n",
              "    }\n",
              "\n",
              "    .dataframe thead th {\n",
              "        text-align: right;\n",
              "    }\n",
              "</style>\n",
              "<table border=\"1\" class=\"dataframe\">\n",
              "  <thead>\n",
              "    <tr style=\"text-align: right;\">\n",
              "      <th></th>\n",
              "      <th>Happiness Rank</th>\n",
              "      <th>Happiness Score</th>\n",
              "      <th>Lower Confidence Interval</th>\n",
              "      <th>Upper Confidence Interval</th>\n",
              "      <th>Economy (GDP per Capita)</th>\n",
              "      <th>Family</th>\n",
              "      <th>Health (Life Expectancy)</th>\n",
              "      <th>Freedom</th>\n",
              "      <th>Trust (Government Corruption)</th>\n",
              "      <th>Generosity</th>\n",
              "      <th>Dystopia Residual</th>\n",
              "    </tr>\n",
              "  </thead>\n",
              "  <tbody>\n",
              "    <tr>\n",
              "      <th>count</th>\n",
              "      <td>157.000000</td>\n",
              "      <td>157.000000</td>\n",
              "      <td>157.000000</td>\n",
              "      <td>157.000000</td>\n",
              "      <td>157.000000</td>\n",
              "      <td>157.000000</td>\n",
              "      <td>157.000000</td>\n",
              "      <td>157.000000</td>\n",
              "      <td>157.000000</td>\n",
              "      <td>157.000000</td>\n",
              "      <td>157.000000</td>\n",
              "    </tr>\n",
              "    <tr>\n",
              "      <th>mean</th>\n",
              "      <td>78.980892</td>\n",
              "      <td>5.382185</td>\n",
              "      <td>5.282395</td>\n",
              "      <td>5.481975</td>\n",
              "      <td>0.953880</td>\n",
              "      <td>0.793621</td>\n",
              "      <td>0.557619</td>\n",
              "      <td>0.370994</td>\n",
              "      <td>0.137624</td>\n",
              "      <td>0.242635</td>\n",
              "      <td>2.325807</td>\n",
              "    </tr>\n",
              "    <tr>\n",
              "      <th>std</th>\n",
              "      <td>45.466030</td>\n",
              "      <td>1.141674</td>\n",
              "      <td>1.148043</td>\n",
              "      <td>1.136493</td>\n",
              "      <td>0.412595</td>\n",
              "      <td>0.266706</td>\n",
              "      <td>0.229349</td>\n",
              "      <td>0.145507</td>\n",
              "      <td>0.111038</td>\n",
              "      <td>0.133756</td>\n",
              "      <td>0.542220</td>\n",
              "    </tr>\n",
              "    <tr>\n",
              "      <th>min</th>\n",
              "      <td>1.000000</td>\n",
              "      <td>2.905000</td>\n",
              "      <td>2.732000</td>\n",
              "      <td>3.078000</td>\n",
              "      <td>0.000000</td>\n",
              "      <td>0.000000</td>\n",
              "      <td>0.000000</td>\n",
              "      <td>0.000000</td>\n",
              "      <td>0.000000</td>\n",
              "      <td>0.000000</td>\n",
              "      <td>0.817890</td>\n",
              "    </tr>\n",
              "    <tr>\n",
              "      <th>25%</th>\n",
              "      <td>40.000000</td>\n",
              "      <td>4.404000</td>\n",
              "      <td>4.327000</td>\n",
              "      <td>4.465000</td>\n",
              "      <td>0.670240</td>\n",
              "      <td>0.641840</td>\n",
              "      <td>0.382910</td>\n",
              "      <td>0.257480</td>\n",
              "      <td>0.061260</td>\n",
              "      <td>0.154570</td>\n",
              "      <td>2.031710</td>\n",
              "    </tr>\n",
              "    <tr>\n",
              "      <th>50%</th>\n",
              "      <td>79.000000</td>\n",
              "      <td>5.314000</td>\n",
              "      <td>5.237000</td>\n",
              "      <td>5.419000</td>\n",
              "      <td>1.027800</td>\n",
              "      <td>0.841420</td>\n",
              "      <td>0.596590</td>\n",
              "      <td>0.397470</td>\n",
              "      <td>0.105470</td>\n",
              "      <td>0.222450</td>\n",
              "      <td>2.290740</td>\n",
              "    </tr>\n",
              "    <tr>\n",
              "      <th>75%</th>\n",
              "      <td>118.000000</td>\n",
              "      <td>6.269000</td>\n",
              "      <td>6.154000</td>\n",
              "      <td>6.434000</td>\n",
              "      <td>1.279640</td>\n",
              "      <td>1.021520</td>\n",
              "      <td>0.729930</td>\n",
              "      <td>0.484530</td>\n",
              "      <td>0.175540</td>\n",
              "      <td>0.311850</td>\n",
              "      <td>2.664650</td>\n",
              "    </tr>\n",
              "    <tr>\n",
              "      <th>max</th>\n",
              "      <td>157.000000</td>\n",
              "      <td>7.526000</td>\n",
              "      <td>7.460000</td>\n",
              "      <td>7.669000</td>\n",
              "      <td>1.824270</td>\n",
              "      <td>1.183260</td>\n",
              "      <td>0.952770</td>\n",
              "      <td>0.608480</td>\n",
              "      <td>0.505210</td>\n",
              "      <td>0.819710</td>\n",
              "      <td>3.837720</td>\n",
              "    </tr>\n",
              "  </tbody>\n",
              "</table>\n",
              "</div>\n",
              "    <div class=\"colab-df-buttons\">\n",
              "\n",
              "  <div class=\"colab-df-container\">\n",
              "    <button class=\"colab-df-convert\" onclick=\"convertToInteractive('df-dd380d46-bc8f-4ab1-af38-72249fa6bca2')\"\n",
              "            title=\"Convert this dataframe to an interactive table.\"\n",
              "            style=\"display:none;\">\n",
              "\n",
              "  <svg xmlns=\"http://www.w3.org/2000/svg\" height=\"24px\" viewBox=\"0 -960 960 960\">\n",
              "    <path d=\"M120-120v-720h720v720H120Zm60-500h600v-160H180v160Zm220 220h160v-160H400v160Zm0 220h160v-160H400v160ZM180-400h160v-160H180v160Zm440 0h160v-160H620v160ZM180-180h160v-160H180v160Zm440 0h160v-160H620v160Z\"/>\n",
              "  </svg>\n",
              "    </button>\n",
              "\n",
              "  <style>\n",
              "    .colab-df-container {\n",
              "      display:flex;\n",
              "      gap: 12px;\n",
              "    }\n",
              "\n",
              "    .colab-df-convert {\n",
              "      background-color: #E8F0FE;\n",
              "      border: none;\n",
              "      border-radius: 50%;\n",
              "      cursor: pointer;\n",
              "      display: none;\n",
              "      fill: #1967D2;\n",
              "      height: 32px;\n",
              "      padding: 0 0 0 0;\n",
              "      width: 32px;\n",
              "    }\n",
              "\n",
              "    .colab-df-convert:hover {\n",
              "      background-color: #E2EBFA;\n",
              "      box-shadow: 0px 1px 2px rgba(60, 64, 67, 0.3), 0px 1px 3px 1px rgba(60, 64, 67, 0.15);\n",
              "      fill: #174EA6;\n",
              "    }\n",
              "\n",
              "    .colab-df-buttons div {\n",
              "      margin-bottom: 4px;\n",
              "    }\n",
              "\n",
              "    [theme=dark] .colab-df-convert {\n",
              "      background-color: #3B4455;\n",
              "      fill: #D2E3FC;\n",
              "    }\n",
              "\n",
              "    [theme=dark] .colab-df-convert:hover {\n",
              "      background-color: #434B5C;\n",
              "      box-shadow: 0px 1px 3px 1px rgba(0, 0, 0, 0.15);\n",
              "      filter: drop-shadow(0px 1px 2px rgba(0, 0, 0, 0.3));\n",
              "      fill: #FFFFFF;\n",
              "    }\n",
              "  </style>\n",
              "\n",
              "    <script>\n",
              "      const buttonEl =\n",
              "        document.querySelector('#df-dd380d46-bc8f-4ab1-af38-72249fa6bca2 button.colab-df-convert');\n",
              "      buttonEl.style.display =\n",
              "        google.colab.kernel.accessAllowed ? 'block' : 'none';\n",
              "\n",
              "      async function convertToInteractive(key) {\n",
              "        const element = document.querySelector('#df-dd380d46-bc8f-4ab1-af38-72249fa6bca2');\n",
              "        const dataTable =\n",
              "          await google.colab.kernel.invokeFunction('convertToInteractive',\n",
              "                                                    [key], {});\n",
              "        if (!dataTable) return;\n",
              "\n",
              "        const docLinkHtml = 'Like what you see? Visit the ' +\n",
              "          '<a target=\"_blank\" href=https://colab.research.google.com/notebooks/data_table.ipynb>data table notebook</a>'\n",
              "          + ' to learn more about interactive tables.';\n",
              "        element.innerHTML = '';\n",
              "        dataTable['output_type'] = 'display_data';\n",
              "        await google.colab.output.renderOutput(dataTable, element);\n",
              "        const docLink = document.createElement('div');\n",
              "        docLink.innerHTML = docLinkHtml;\n",
              "        element.appendChild(docLink);\n",
              "      }\n",
              "    </script>\n",
              "  </div>\n",
              "\n",
              "\n",
              "<div id=\"df-b625a89d-18bb-457f-8b9a-2551e95813a2\">\n",
              "  <button class=\"colab-df-quickchart\" onclick=\"quickchart('df-b625a89d-18bb-457f-8b9a-2551e95813a2')\"\n",
              "            title=\"Suggest charts\"\n",
              "            style=\"display:none;\">\n",
              "\n",
              "<svg xmlns=\"http://www.w3.org/2000/svg\" height=\"24px\"viewBox=\"0 0 24 24\"\n",
              "     width=\"24px\">\n",
              "    <g>\n",
              "        <path d=\"M19 3H5c-1.1 0-2 .9-2 2v14c0 1.1.9 2 2 2h14c1.1 0 2-.9 2-2V5c0-1.1-.9-2-2-2zM9 17H7v-7h2v7zm4 0h-2V7h2v10zm4 0h-2v-4h2v4z\"/>\n",
              "    </g>\n",
              "</svg>\n",
              "  </button>\n",
              "\n",
              "<style>\n",
              "  .colab-df-quickchart {\n",
              "      --bg-color: #E8F0FE;\n",
              "      --fill-color: #1967D2;\n",
              "      --hover-bg-color: #E2EBFA;\n",
              "      --hover-fill-color: #174EA6;\n",
              "      --disabled-fill-color: #AAA;\n",
              "      --disabled-bg-color: #DDD;\n",
              "  }\n",
              "\n",
              "  [theme=dark] .colab-df-quickchart {\n",
              "      --bg-color: #3B4455;\n",
              "      --fill-color: #D2E3FC;\n",
              "      --hover-bg-color: #434B5C;\n",
              "      --hover-fill-color: #FFFFFF;\n",
              "      --disabled-bg-color: #3B4455;\n",
              "      --disabled-fill-color: #666;\n",
              "  }\n",
              "\n",
              "  .colab-df-quickchart {\n",
              "    background-color: var(--bg-color);\n",
              "    border: none;\n",
              "    border-radius: 50%;\n",
              "    cursor: pointer;\n",
              "    display: none;\n",
              "    fill: var(--fill-color);\n",
              "    height: 32px;\n",
              "    padding: 0;\n",
              "    width: 32px;\n",
              "  }\n",
              "\n",
              "  .colab-df-quickchart:hover {\n",
              "    background-color: var(--hover-bg-color);\n",
              "    box-shadow: 0 1px 2px rgba(60, 64, 67, 0.3), 0 1px 3px 1px rgba(60, 64, 67, 0.15);\n",
              "    fill: var(--button-hover-fill-color);\n",
              "  }\n",
              "\n",
              "  .colab-df-quickchart-complete:disabled,\n",
              "  .colab-df-quickchart-complete:disabled:hover {\n",
              "    background-color: var(--disabled-bg-color);\n",
              "    fill: var(--disabled-fill-color);\n",
              "    box-shadow: none;\n",
              "  }\n",
              "\n",
              "  .colab-df-spinner {\n",
              "    border: 2px solid var(--fill-color);\n",
              "    border-color: transparent;\n",
              "    border-bottom-color: var(--fill-color);\n",
              "    animation:\n",
              "      spin 1s steps(1) infinite;\n",
              "  }\n",
              "\n",
              "  @keyframes spin {\n",
              "    0% {\n",
              "      border-color: transparent;\n",
              "      border-bottom-color: var(--fill-color);\n",
              "      border-left-color: var(--fill-color);\n",
              "    }\n",
              "    20% {\n",
              "      border-color: transparent;\n",
              "      border-left-color: var(--fill-color);\n",
              "      border-top-color: var(--fill-color);\n",
              "    }\n",
              "    30% {\n",
              "      border-color: transparent;\n",
              "      border-left-color: var(--fill-color);\n",
              "      border-top-color: var(--fill-color);\n",
              "      border-right-color: var(--fill-color);\n",
              "    }\n",
              "    40% {\n",
              "      border-color: transparent;\n",
              "      border-right-color: var(--fill-color);\n",
              "      border-top-color: var(--fill-color);\n",
              "    }\n",
              "    60% {\n",
              "      border-color: transparent;\n",
              "      border-right-color: var(--fill-color);\n",
              "    }\n",
              "    80% {\n",
              "      border-color: transparent;\n",
              "      border-right-color: var(--fill-color);\n",
              "      border-bottom-color: var(--fill-color);\n",
              "    }\n",
              "    90% {\n",
              "      border-color: transparent;\n",
              "      border-bottom-color: var(--fill-color);\n",
              "    }\n",
              "  }\n",
              "</style>\n",
              "\n",
              "  <script>\n",
              "    async function quickchart(key) {\n",
              "      const quickchartButtonEl =\n",
              "        document.querySelector('#' + key + ' button');\n",
              "      quickchartButtonEl.disabled = true;  // To prevent multiple clicks.\n",
              "      quickchartButtonEl.classList.add('colab-df-spinner');\n",
              "      try {\n",
              "        const charts = await google.colab.kernel.invokeFunction(\n",
              "            'suggestCharts', [key], {});\n",
              "      } catch (error) {\n",
              "        console.error('Error during call to suggestCharts:', error);\n",
              "      }\n",
              "      quickchartButtonEl.classList.remove('colab-df-spinner');\n",
              "      quickchartButtonEl.classList.add('colab-df-quickchart-complete');\n",
              "    }\n",
              "    (() => {\n",
              "      let quickchartButtonEl =\n",
              "        document.querySelector('#df-b625a89d-18bb-457f-8b9a-2551e95813a2 button');\n",
              "      quickchartButtonEl.style.display =\n",
              "        google.colab.kernel.accessAllowed ? 'block' : 'none';\n",
              "    })();\n",
              "  </script>\n",
              "</div>\n",
              "    </div>\n",
              "  </div>\n"
            ]
          },
          "metadata": {},
          "execution_count": 5
        }
      ]
    },
    {
      "cell_type": "code",
      "source": [
        "plt.figure(figsize=(10,8))\n",
        "plt.hist(df['Happiness Score'], bins = 10, color = 'blue')\n",
        "\n",
        "plt.xlabel('Happiness Score')\n",
        "plt.ylabel('Frequency')\n",
        "plt.title('Distribution of Happiness Scores')\n",
        "\n",
        "plt.show()\n"
      ],
      "metadata": {
        "colab": {
          "base_uri": "https://localhost:8080/",
          "height": 718
        },
        "id": "WZ2jPhkHnRVx",
        "outputId": "9a96b942-3015-43a2-99ef-d0a19f7f908d"
      },
      "execution_count": null,
      "outputs": [
        {
          "output_type": "display_data",
          "data": {
            "text/plain": [
              "<Figure size 1000x800 with 1 Axes>"
            ],
            "image/png": "[encoded data removed]"
          },
          "metadata": {}
        }
      ]
    },
    {
      "cell_type": "code",
      "source": [
        "df.info()"
      ],
      "metadata": {
        "colab": {
          "base_uri": "https://localhost:8080/"
        },
        "id": "TX5NqnPynISq",
        "outputId": "08b1ae3d-5023-45e6-a394-d4fa343542f6"
      },
      "execution_count": null,
      "outputs": [
        {
          "output_type": "stream",
          "name": "stdout",
          "text": [
            "<class 'pandas.core.frame.DataFrame'>\n",
            "RangeIndex: 157 entries, 0 to 156\n",
            "Data columns (total 13 columns):\n",
            " #   Column                         Non-Null Count  Dtype  \n",
            "---  ------                         --------------  -----  \n",
            " 0   Country                        157 non-null    object \n",
            " 1   Region                         157 non-null    object \n",
            " 2   Happiness Rank                 157 non-null    int64  \n",
            " 3   Happiness Score                157 non-null    float64\n",
            " 4   Lower Confidence Interval      157 non-null    float64\n",
            " 5   Upper Confidence Interval      157 non-null    float64\n",
            " 6   Economy (GDP per Capita)       157 non-null    float64\n",
            " 7   Family                         157 non-null    float64\n",
            " 8   Health (Life Expectancy)       157 non-null    float64\n",
            " 9   Freedom                        157 non-null    float64\n",
            " 10  Trust (Government Corruption)  157 non-null    float64\n",
            " 11  Generosity                     157 non-null    float64\n",
            " 12  Dystopia Residual              157 non-null    float64\n",
            "dtypes: float64(10), int64(1), object(2)\n",
            "memory usage: 16.1+ KB\n"
          ]
        }
      ]
    },
    {
      "cell_type": "markdown",
      "source": [
        "## 2. Handling Missing Values"
      ],
      "metadata": {
        "id": "MO4nKPaUqde5"
      }
    },
    {
      "cell_type": "markdown",
      "source": [
        "In this section, we check the dataset for any columns with null values as this helps in removing the noisy/unuseful data. We find that 0 fields have null values and so we don't have to remove any rows from the dataset."
      ],
      "metadata": {
        "id": "ADL1FEgyC_cP"
      }
    },
    {
      "cell_type": "code",
      "source": [
        "# Determine the number of missing values per feature\n",
        "print(\"NAs for each feature:\")\n",
        "df.isna().sum()"
      ],
      "metadata": {
        "colab": {
          "base_uri": "https://localhost:8080/"
        },
        "id": "cnNdBsHsqgLI",
        "outputId": "4987af16-0eaf-4a5a-e575-97636508ab90"
      },
      "execution_count": null,
      "outputs": [
        {
          "output_type": "stream",
          "name": "stdout",
          "text": [
            "NAs for each feature:\n"
          ]
        },
        {
          "output_type": "execute_result",
          "data": {
            "text/plain": [
              "Country                          0\n",
              "Region                           0\n",
              "Happiness Rank                   0\n",
              "Happiness Score                  0\n",
              "Lower Confidence Interval        0\n",
              "Upper Confidence Interval        0\n",
              "Economy (GDP per Capita)         0\n",
              "Family                           0\n",
              "Health (Life Expectancy)         0\n",
              "Freedom                          0\n",
              "Trust (Government Corruption)    0\n",
              "Generosity                       0\n",
              "Dystopia Residual                0\n",
              "dtype: int64"
            ]
          },
          "metadata": {},
          "execution_count": 8
        }
      ]
    },
    {
      "cell_type": "code",
      "source": [
        "# Make sure that none of the features contain missing values\n",
        "list(df.columns[df.isna().sum() == 0])"
      ],
      "metadata": {
        "colab": {
          "base_uri": "https://localhost:8080/"
        },
        "id": "iexFPffnsS_z",
        "outputId": "28dc1142-7be8-4197-f297-917e791a2dcd"
      },
      "execution_count": null,
      "outputs": [
        {
          "output_type": "execute_result",
          "data": {
            "text/plain": [
              "['Country',\n",
              " 'Region',\n",
              " 'Happiness Rank',\n",
              " 'Happiness Score',\n",
              " 'Lower Confidence Interval',\n",
              " 'Upper Confidence Interval',\n",
              " 'Economy (GDP per Capita)',\n",
              " 'Family',\n",
              " 'Health (Life Expectancy)',\n",
              " 'Freedom',\n",
              " 'Trust (Government Corruption)',\n",
              " 'Generosity',\n",
              " 'Dystopia Residual']"
            ]
          },
          "metadata": {},
          "execution_count": 9
        }
      ]
    },
    {
      "cell_type": "markdown",
      "source": [
        "# Defining Objectives"
      ],
      "metadata": {
        "id": "jG6_ce7Fsd4J"
      }
    },
    {
      "cell_type": "markdown",
      "source": [
        "The objectives for the data analysis tasks include -\n",
        "\n",
        "  1.   We want to analyze how features like Economy (GDP per Capita), Family, and Health (Life Expectancy) are correlated in determing a country's Happiness Score. It will help to see how the 3 features are correlated to one another as well to help make logical predictions about the other features if we know the score for one of the features.\n",
        "  2.   How does a country's trust in its government play a role in the perceived freedom afforded to its people?\n",
        "  3.   How do Happiness Scores vary by geographical region? Can we associate certain regions with having happier populations?\n",
        "\n"
      ],
      "metadata": {
        "id": "4xnGiXtLshSR"
      }
    },
    {
      "cell_type": "markdown",
      "source": [
        "# Present Your Findings"
      ],
      "metadata": {
        "id": "ixAsMMoTsm7F"
      }
    },
    {
      "cell_type": "code",
      "source": [
        "# Filter dataframe to only include the desired variables\n",
        "df_filtered = df[['Economy (GDP per Capita)', 'Family', 'Health (Life Expectancy)', 'Happiness Score']]"
      ],
      "metadata": {
        "id": "_bjxbomUstra"
      },
      "execution_count": null,
      "outputs": []
    },
    {
      "cell_type": "markdown",
      "source": [
        "A correlation heatmap was chosen for Objective 1 because it presents a color gradient based on the strength of correlation between each of the 4 features. Darker colored grids represent stronger correlations and lighter colored grids represent weaker correlations. Corresponding numerical correlation values are also provided in each grid."
      ],
      "metadata": {
        "id": "C_egsmAIWS9T"
      }
    },
    {
      "cell_type": "code",
      "source": [
        "plt.figure(figsize=(10,8))\n",
        "plt.title('Correlation Heatmap')\n",
        "sns.heatmap(df_filtered.corr(), annot=True, fmt=\".4f\",  linewidths=0.5)\n",
        "plt.show()"
      ],
      "metadata": {
        "colab": {
          "base_uri": "https://localhost:8080/",
          "height": 699
        },
        "id": "qaTRB6gmuILF",
        "outputId": "0d01d255-a9cb-47aa-b60d-2923f6197edc"
      },
      "execution_count": null,
      "outputs": [
        {
          "output_type": "display_data",
          "data": {
            "text/plain": [
              "<Figure size 1000x800 with 2 Axes>"
            ],
            "image/png": "[encoded data removed]"
          },
          "metadata": {}
        }
      ]
    },
    {
      "cell_type": "markdown",
      "source": [
        "From the heatmap above, we can infer that Health (Life Expectancy) and Economy (GDP per Capita) are the 2 features with the strongest positive relationship, with a correlation value of 0.8371. This makes logical sense that people in a wealthier country have better access to healthcare and nutrition, allowing them to live longer on average. I found it surprising that there was not a stronger positive relationship between Family and Health (Life Expectancy). I presumed that a country whose population feels like they have proper social support from their friends and family, will live a more joyful/mentally healthy life thus extending their lifetime. These 2 features had the weakest correlation among all the other combinations at just 0.5884. What interested me the most however, was the fact that Economy (GDP per Capita) had the strongest direct relationship with Happiness Score, proving that money can buy happiness to a certain extent."
      ],
      "metadata": {
        "id": "nZ3orVLPXDPA"
      }
    },
    {
      "cell_type": "code",
      "source": [
        "# Isolate freedom and trust columns\n",
        "freedom = df['Freedom']\n",
        "trust = df['Trust (Government Corruption)']"
      ],
      "metadata": {
        "id": "JF5Gk-HNu1pe"
      },
      "execution_count": null,
      "outputs": []
    },
    {
      "cell_type": "markdown",
      "source": [
        "A scatterplot was used for Objective 2 as a different approach to represent the overall trend/correlation between Trust and Freedom across all countries. Based on the direction and slope of the imaginary trendline, we can determine the type (positive or negative) and strength of the relationship between the 2 features, respectively."
      ],
      "metadata": {
        "id": "mhTIPMexZRBT"
      }
    },
    {
      "cell_type": "code",
      "source": [
        "plt.figure(figsize=(10,8))\n",
        "plt.scatter(freedom, trust, color = 'blue', alpha = 1)\n",
        "\n",
        "plt.xlabel('Freedom', fontsize = 11)\n",
        "plt.ylabel('Trust (Government Corruption)', fontsize = 11)\n",
        "plt.title('Scatter Plot of Trust vs Freedom', fontsize = 11)\n",
        "\n",
        "plt.show()"
      ],
      "metadata": {
        "colab": {
          "base_uri": "https://localhost:8080/",
          "height": 717
        },
        "id": "rMaU-xWdvg_g",
        "outputId": "286e6671-8e7d-41f8-b0ff-1a0645173134"
      },
      "execution_count": null,
      "outputs": [
        {
          "output_type": "display_data",
          "data": {
            "text/plain": [
              "<Figure size 1000x800 with 1 Axes>"
            ],
            "image/png": "[encoded data removed]"
          },
          "metadata": {}
        }
      ]
    },
    {
      "cell_type": "code",
      "source": [
        "correlation = freedom.corr(trust)\n",
        "print(\"Correlation between Trust and Freedom: \", correlation)"
      ],
      "metadata": {
        "colab": {
          "base_uri": "https://localhost:8080/"
        },
        "id": "jp8rmLzvwjQa",
        "outputId": "3e881dbf-5f43-48b2-f622-a0ea03620654"
      },
      "execution_count": null,
      "outputs": [
        {
          "output_type": "stream",
          "name": "stdout",
          "text": [
            "Correlation between Trust and Freedom:  0.5020539736587192\n"
          ]
        }
      ]
    },
    {
      "cell_type": "markdown",
      "source": [
        "From the scatterplot and correlation value above, we can see that there aren't outliers in the dataset. Secondly, Freedom and Trust (Government Corruption) are directly related, however there isn't a strong correlation. Intuitively this makes sense because a population's sense of freedom or sense of freedom does not necessarily relate to their trust that their country's governement wants what's best for them. Similarly, some people may trust government's who afford them less freedom because that's all they have ever known. Therefore, a country's higher sense of trust does not always equate to more freedom and vice-versa."
      ],
      "metadata": {
        "id": "ZRss0vlIZ_9H"
      }
    },
    {
      "cell_type": "code",
      "source": [
        "# Compute average happiness score by region\n",
        "avg_happiness_score_by_region = df.groupby('Region')['Happiness Score'].mean()\n",
        "avg_happiness_score_by_region = avg_happiness_score_by_region.sort_values()"
      ],
      "metadata": {
        "id": "TVIubo_Ixyt5"
      },
      "execution_count": null,
      "outputs": []
    },
    {
      "cell_type": "markdown",
      "source": [
        "A bar plot was used for Objective 3 to categorize average Happiness Scores by geographical region. The bar plot provides a clear side-by-side comparison between each region and allows us to make educated inferences about the happiness of a country's people solely based on their geographical location."
      ],
      "metadata": {
        "id": "izP610SXbnWT"
      }
    },
    {
      "cell_type": "code",
      "source": [
        "plt.figure(figsize=(10,8))\n",
        "avg_happiness_score_by_region.plot(kind = 'barh', color = 'blue', fontsize = 9)\n",
        "\n",
        "plt.ylabel('Region', fontsize = 12)\n",
        "plt.xlabel('Average Happiness Score', fontsize = 12)\n",
        "plt.title('Bar Plot of Average Happiness Score by Region', fontsize = 12)\n",
        "\n",
        "plt.show()"
      ],
      "metadata": {
        "colab": {
          "base_uri": "https://localhost:8080/",
          "height": 721
        },
        "id": "TC16-1LKzJzs",
        "outputId": "df1cd68d-324b-44b8-96c6-4d2207e5b938"
      },
      "execution_count": null,
      "outputs": [
        {
          "output_type": "display_data",
          "data": {
            "text/plain": [
              "<Figure size 1000x800 with 1 Axes>"
            ],
            "image/png": "[encoded data removed]"
          },
          "metadata": {}
        }
      ]
    },
    {
      "cell_type": "markdown",
      "source": [
        "From the bar plot above, we can clearly see that countries in \"Western\" regions tend to have higher Happiness Scores. This is proven as the 3 regions of \"Australia and New Zealand\", \"North America\", and \"Western Europe\" standout as having the highest Average Happiness Scores of around 7. The main excpetion to this trend is the lower Average Happiness Score of \"Central and Eastern Europe\" at around 5, which can most likely be attributed to being poorer and poorer governments and a lower sense of societal freedom. This observed trend further proves to the point of the scatterplot above, that wealthier and more prosperous countries generally have happier people. Of course, this isn't always the case as there are countries that are excpetions to this rule and correlation in any of the 3 plots above does not equate to causation, but rather association of different features."
      ],
      "metadata": {
        "id": "DiUO4_HIckTl"
      }
    },
    {
      "cell_type": "markdown",
      "source": [
        "# Ethics"
      ],
      "metadata": {
        "id": "z3wbjKXJ1iPY"
      }
    },
    {
      "cell_type": "markdown",
      "source": [
        "A major ethical concern is the method used to obtain this dataset. It can be very difficult to quantify many of these variables (freedom, health, happiness, etc.) on an ambiguous numerical scale that may be interpreted differently by individual respondents. Much of what is being measured in this dataset is subjective and there is no standard metric to follow. Additionally,people from different regions and living under certain governments may feel pressured to respond a certain way to these questions if they aren't guaranteed to stay anonymous. The standards/expectations for 'freedom' are entirely different from country to country, especially in places where foreign media that exposes different ways of life and thinking is censored."
      ],
      "metadata": {
        "id": "GH9nL1F-1k58"
      }
    }
  ]
}